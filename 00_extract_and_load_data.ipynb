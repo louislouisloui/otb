{
 "cells": [
  {
   "cell_type": "code",
   "execution_count": 2,
   "metadata": {},
   "outputs": [],
   "source": [
    "import pandas as pd\n",
    "import numpy as np\n",
    "import os"
   ]
  },
  {
   "cell_type": "markdown",
   "metadata": {},
   "source": [
    "--------\n",
    "Raw datas are stored in a the file 'data'.\n",
    "We do not git them"
   ]
  },
  {
   "cell_type": "code",
   "execution_count": 3,
   "metadata": {},
   "outputs": [
    {
     "name": "stdout",
     "output_type": "stream",
     "text": [
      "total 12776\r\n",
      "-rwxr-xr-x@ 1 louis.duverger  OLXBR\\Domain Users     1608 24 Set 10:30 \u001b[31motb_interview_task__SAMPLE_SUBMISSION__product_groupings.csv\u001b[m\u001b[m*\r\n",
      "-rwxr-xr-x@ 1 louis.duverger  OLXBR\\Domain Users   128548 23 Set 17:10 \u001b[31motb_interview_task__SAMPLE_SUBMISSION__product_time_series.csv\u001b[m\u001b[m*\r\n",
      "-rwxr-xr-x@ 1 louis.duverger  OLXBR\\Domain Users      755 23 Set 17:53 \u001b[31motb_interview_task__test__product_groupings.csv\u001b[m\u001b[m*\r\n",
      "-rwxr-xr-x@ 1 louis.duverger  OLXBR\\Domain Users   433835 23 Set 17:53 \u001b[31motb_interview_task__test__product_time_series.csv\u001b[m\u001b[m*\r\n",
      "-rwxr-xr-x@ 1 louis.duverger  OLXBR\\Domain Users   126622 24 Set 12:37 \u001b[31motb_interview_task__train__meta_time_series.csv\u001b[m\u001b[m*\r\n",
      "-rwxr-xr-x@ 1 louis.duverger  OLXBR\\Domain Users  5839650 23 Set 17:53 \u001b[31motb_interview_task__train__product_time_series.csv\u001b[m\u001b[m*\r\n"
     ]
    }
   ],
   "source": [
    "%ls -l data/"
   ]
  },
  {
   "cell_type": "markdown",
   "metadata": {},
   "source": [
    "--------\n",
    "## Create python-friendly datasets\n",
    "Create python versions of the datasets with right data formats and store them"
   ]
  },
  {
   "cell_type": "code",
   "execution_count": 4,
   "metadata": {},
   "outputs": [],
   "source": [
    "meta = pd.read_csv('./data/otb_interview_task__train__meta_time_series.csv', parse_dates = [0])\n",
    "meta.columns = ['_'.join(i.lower().split()) for i in meta.columns]\n",
    "meta.weather_index = meta.weather_index.astype('category')\n",
    "meta.to_pickle('./datasets/train_meta_series.pkl')"
   ]
  },
  {
   "cell_type": "code",
   "execution_count": 5,
   "metadata": {},
   "outputs": [],
   "source": [
    "product = pd.read_csv('./data/otb_interview_task__train__product_time_series.csv', parse_dates = [1])\n",
    "product.columns = ['_'.join(i.lower().split()) for i in product.columns]\n",
    "product.product_id = product.product_id.astype('category')\n",
    "product.to_pickle('./datasets/train_product_series.pkl')"
   ]
  }
 ],
 "metadata": {
  "kernelspec": {
   "display_name": "Python 3",
   "language": "python",
   "name": "python3"
  }
 },
 "nbformat": 4,
 "nbformat_minor": 2
}
